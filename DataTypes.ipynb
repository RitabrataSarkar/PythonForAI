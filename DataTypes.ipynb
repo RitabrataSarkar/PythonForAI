{
  "nbformat": 4,
  "nbformat_minor": 0,
  "metadata": {
    "colab": {
      "provenance": [],
      "authorship_tag": "ABX9TyPLfkdSZyXGnAn9EkNOqC7c",
      "include_colab_link": true
    },
    "kernelspec": {
      "name": "python3",
      "display_name": "Python 3"
    },
    "language_info": {
      "name": "python"
    }
  },
  "cells": [
    {
      "cell_type": "markdown",
      "metadata": {
        "id": "view-in-github",
        "colab_type": "text"
      },
      "source": [
        "<a href=\"https://colab.research.google.com/github/RitabrataSarkar/PythonForAI/blob/main/DataTypes.ipynb\" target=\"_parent\"><img src=\"https://colab.research.google.com/assets/colab-badge.svg\" alt=\"Open In Colab\"/></a>"
      ]
    },
    {
      "cell_type": "code",
      "execution_count": 1,
      "metadata": {
        "id": "S3-n-AHFiBR0"
      },
      "outputs": [],
      "source": [
        "x=5\n"
      ]
    },
    {
      "cell_type": "code",
      "source": [
        "price=26.25"
      ],
      "metadata": {
        "id": "DbUMAJylk-Hi"
      },
      "execution_count": 2,
      "outputs": []
    },
    {
      "cell_type": "code",
      "source": [
        "print(price)\n"
      ],
      "metadata": {
        "colab": {
          "base_uri": "https://localhost:8080/"
        },
        "id": "MylcJM8BlDMV",
        "outputId": "fc2623cf-df13-491d-fa8c-d20316a3a118"
      },
      "execution_count": 3,
      "outputs": [
        {
          "output_type": "stream",
          "name": "stdout",
          "text": [
            "26.25\n"
          ]
        }
      ]
    },
    {
      "cell_type": "code",
      "source": [
        "num=3e10\n"
      ],
      "metadata": {
        "id": "bsQaB7pblIBU"
      },
      "execution_count": 4,
      "outputs": []
    },
    {
      "cell_type": "code",
      "source": [
        "print(num)\n",
        "\n"
      ],
      "metadata": {
        "colab": {
          "base_uri": "https://localhost:8080/"
        },
        "id": "i51g72PflLLV",
        "outputId": "73fc80fa-f89e-4caa-9756-060553aa56d5"
      },
      "execution_count": 5,
      "outputs": [
        {
          "output_type": "stream",
          "name": "stdout",
          "text": [
            "30000000000.0\n"
          ]
        }
      ]
    },
    {
      "cell_type": "code",
      "source": [
        "z=4+5j\n",
        "print(z)"
      ],
      "metadata": {
        "colab": {
          "base_uri": "https://localhost:8080/"
        },
        "id": "3W5maqJmlO7Q",
        "outputId": "8467340e-a176-405b-e5c2-15a361bfa09b"
      },
      "execution_count": 6,
      "outputs": [
        {
          "output_type": "stream",
          "name": "stdout",
          "text": [
            "(4+5j)\n"
          ]
        }
      ]
    },
    {
      "cell_type": "code",
      "source": [
        "print(type(z))"
      ],
      "metadata": {
        "colab": {
          "base_uri": "https://localhost:8080/"
        },
        "id": "c69zo7FLlU0H",
        "outputId": "8115b203-9dd0-49ed-d501-0de97e4240b4"
      },
      "execution_count": 7,
      "outputs": [
        {
          "output_type": "stream",
          "name": "stdout",
          "text": [
            "<class 'complex'>\n"
          ]
        }
      ]
    },
    {
      "cell_type": "code",
      "source": [
        "print(abs(-5))"
      ],
      "metadata": {
        "colab": {
          "base_uri": "https://localhost:8080/"
        },
        "id": "3pWTZwVYlY48",
        "outputId": "f9de5fa7-51db-4426-a406-6140287ce388"
      },
      "execution_count": 8,
      "outputs": [
        {
          "output_type": "stream",
          "name": "stdout",
          "text": [
            "5\n"
          ]
        }
      ]
    },
    {
      "cell_type": "code",
      "source": [
        "print(pow(2,3))"
      ],
      "metadata": {
        "colab": {
          "base_uri": "https://localhost:8080/"
        },
        "id": "Y_fibMLmljou",
        "outputId": "ecce5321-d335-404b-f02b-95bf8a174d59"
      },
      "execution_count": 9,
      "outputs": [
        {
          "output_type": "stream",
          "name": "stdout",
          "text": [
            "8\n"
          ]
        }
      ]
    },
    {
      "cell_type": "code",
      "source": [
        "print(round(4.75))"
      ],
      "metadata": {
        "colab": {
          "base_uri": "https://localhost:8080/"
        },
        "id": "UC5chL7illuZ",
        "outputId": "952a28d9-b406-46cf-bf28-a02b9cfe7b95"
      },
      "execution_count": 10,
      "outputs": [
        {
          "output_type": "stream",
          "name": "stdout",
          "text": [
            "5\n"
          ]
        }
      ]
    },
    {
      "cell_type": "code",
      "source": [
        "print(round(4.5))"
      ],
      "metadata": {
        "colab": {
          "base_uri": "https://localhost:8080/"
        },
        "id": "ug11jKXYlql6",
        "outputId": "972630d4-1375-4ffb-a69a-1d34bc3ee250"
      },
      "execution_count": 11,
      "outputs": [
        {
          "output_type": "stream",
          "name": "stdout",
          "text": [
            "4\n"
          ]
        }
      ]
    },
    {
      "cell_type": "code",
      "source": [
        "nums = [3,1,5,7,9,1]\n",
        "print(max(nums))\n",
        "print(min(nums))"
      ],
      "metadata": {
        "colab": {
          "base_uri": "https://localhost:8080/"
        },
        "id": "f7x5ciBRlugC",
        "outputId": "60034511-b7e9-4069-b2e1-994283a0e4ec"
      },
      "execution_count": 12,
      "outputs": [
        {
          "output_type": "stream",
          "name": "stdout",
          "text": [
            "9\n",
            "1\n"
          ]
        }
      ]
    },
    {
      "cell_type": "code",
      "source": [
        "print(sum(nums))"
      ],
      "metadata": {
        "colab": {
          "base_uri": "https://localhost:8080/"
        },
        "id": "E5NtGmtemjoa",
        "outputId": "99f8c72a-1bc8-4caf-98e9-a8e7a4a4cbe4"
      },
      "execution_count": 13,
      "outputs": [
        {
          "output_type": "stream",
          "name": "stdout",
          "text": [
            "26\n"
          ]
        }
      ]
    },
    {
      "cell_type": "code",
      "source": [
        "name=\"rito\"\n",
        "city=\"coochbehar\"\n",
        "country=\"india\"\n"
      ],
      "metadata": {
        "id": "Jjf9ClThmnM7"
      },
      "execution_count": 14,
      "outputs": []
    },
    {
      "cell_type": "code",
      "source": [
        "mssg=\"\"\"\n",
        "This is my learning message\n",
        "\"\"\""
      ],
      "metadata": {
        "id": "zt0LBbvEnBuJ"
      },
      "execution_count": 15,
      "outputs": []
    },
    {
      "cell_type": "code",
      "source": [
        "name=\"ritabrata\"\n",
        "print(name[4])"
      ],
      "metadata": {
        "colab": {
          "base_uri": "https://localhost:8080/"
        },
        "id": "xtSQ5ScTnIro",
        "outputId": "3fd4e5be-71b6-47f9-d7ed-fc628167216a"
      },
      "execution_count": 16,
      "outputs": [
        {
          "output_type": "stream",
          "name": "stdout",
          "text": [
            "b\n"
          ]
        }
      ]
    },
    {
      "cell_type": "code",
      "source": [
        "print(name[12])"
      ],
      "metadata": {
        "colab": {
          "base_uri": "https://localhost:8080/",
          "height": 144
        },
        "id": "9EdFHwvXnWtg",
        "outputId": "65e44100-764c-4a3b-c23d-6128188f6be9"
      },
      "execution_count": 17,
      "outputs": [
        {
          "output_type": "error",
          "ename": "IndexError",
          "evalue": "string index out of range",
          "traceback": [
            "\u001b[0;31m---------------------------------------------------------------------------\u001b[0m",
            "\u001b[0;31mIndexError\u001b[0m                                Traceback (most recent call last)",
            "\u001b[0;32m<ipython-input-17-2ded1f96cb70>\u001b[0m in \u001b[0;36m<cell line: 1>\u001b[0;34m()\u001b[0m\n\u001b[0;32m----> 1\u001b[0;31m \u001b[0mprint\u001b[0m\u001b[0;34m(\u001b[0m\u001b[0mname\u001b[0m\u001b[0;34m[\u001b[0m\u001b[0;36m12\u001b[0m\u001b[0;34m]\u001b[0m\u001b[0;34m)\u001b[0m\u001b[0;34m\u001b[0m\u001b[0;34m\u001b[0m\u001b[0m\n\u001b[0m",
            "\u001b[0;31mIndexError\u001b[0m: string index out of range"
          ]
        }
      ]
    },
    {
      "cell_type": "code",
      "source": [],
      "metadata": {
        "id": "33nqyjC7nZMD"
      },
      "execution_count": null,
      "outputs": []
    },
    {
      "cell_type": "code",
      "source": [
        "print(name[12])"
      ],
      "metadata": {
        "colab": {
          "base_uri": "https://localhost:8080/",
          "height": 144
        },
        "outputId": "65e44100-764c-4a3b-c23d-6128188f6be9",
        "id": "qQPVwKconk5N"
      },
      "execution_count": null,
      "outputs": [
        {
          "output_type": "error",
          "ename": "IndexError",
          "evalue": "string index out of range",
          "traceback": [
            "\u001b[0;31m---------------------------------------------------------------------------\u001b[0m",
            "\u001b[0;31mIndexError\u001b[0m                                Traceback (most recent call last)",
            "\u001b[0;32m<ipython-input-17-2ded1f96cb70>\u001b[0m in \u001b[0;36m<cell line: 1>\u001b[0;34m()\u001b[0m\n\u001b[0;32m----> 1\u001b[0;31m \u001b[0mprint\u001b[0m\u001b[0;34m(\u001b[0m\u001b[0mname\u001b[0m\u001b[0;34m[\u001b[0m\u001b[0;36m12\u001b[0m\u001b[0;34m]\u001b[0m\u001b[0;34m)\u001b[0m\u001b[0;34m\u001b[0m\u001b[0;34m\u001b[0m\u001b[0m\n\u001b[0m",
            "\u001b[0;31mIndexError\u001b[0m: string index out of range"
          ]
        }
      ]
    },
    {
      "cell_type": "code",
      "source": [
        "print(name[-1])"
      ],
      "metadata": {
        "colab": {
          "base_uri": "https://localhost:8080/"
        },
        "id": "d57joC2Pnk5N",
        "outputId": "807da9e4-c0ca-4eb3-bcc8-0afe29ed6703"
      },
      "execution_count": 18,
      "outputs": [
        {
          "output_type": "stream",
          "name": "stdout",
          "text": [
            "a\n"
          ]
        }
      ]
    },
    {
      "cell_type": "code",
      "source": [
        "name[0]='a'"
      ],
      "metadata": {
        "colab": {
          "base_uri": "https://localhost:8080/",
          "height": 144
        },
        "id": "8jhw_9ddnq_Z",
        "outputId": "0b077b9c-bd7c-429d-c16e-bf9c2b5038d1"
      },
      "execution_count": 19,
      "outputs": [
        {
          "output_type": "error",
          "ename": "TypeError",
          "evalue": "'str' object does not support item assignment",
          "traceback": [
            "\u001b[0;31m---------------------------------------------------------------------------\u001b[0m",
            "\u001b[0;31mTypeError\u001b[0m                                 Traceback (most recent call last)",
            "\u001b[0;32m<ipython-input-19-b1d230bd018e>\u001b[0m in \u001b[0;36m<cell line: 1>\u001b[0;34m()\u001b[0m\n\u001b[0;32m----> 1\u001b[0;31m \u001b[0mname\u001b[0m\u001b[0;34m[\u001b[0m\u001b[0;36m0\u001b[0m\u001b[0;34m]\u001b[0m\u001b[0;34m=\u001b[0m\u001b[0;34m'a'\u001b[0m\u001b[0;34m\u001b[0m\u001b[0;34m\u001b[0m\u001b[0m\n\u001b[0m",
            "\u001b[0;31mTypeError\u001b[0m: 'str' object does not support item assignment"
          ]
        }
      ]
    },
    {
      "cell_type": "code",
      "source": [
        "first_name=\"rito\"\n",
        "last_name=\"sarkar\"\n",
        "complete_name=first_name+\" \"+last_name\n",
        "print(complete_name)"
      ],
      "metadata": {
        "colab": {
          "base_uri": "https://localhost:8080/"
        },
        "id": "L_T31Yh2uRBw",
        "outputId": "1bf7398e-11c0-477f-c341-6a6c1ad3a339"
      },
      "execution_count": 21,
      "outputs": [
        {
          "output_type": "stream",
          "name": "stdout",
          "text": [
            "rito sarkar\n"
          ]
        }
      ]
    },
    {
      "cell_type": "code",
      "source": [
        "print(len(complete_name))"
      ],
      "metadata": {
        "colab": {
          "base_uri": "https://localhost:8080/"
        },
        "id": "skVDs_3YuofB",
        "outputId": "30537b0e-fae8-4773-a32c-95752a96e062"
      },
      "execution_count": 22,
      "outputs": [
        {
          "output_type": "stream",
          "name": "stdout",
          "text": [
            "11\n"
          ]
        }
      ]
    },
    {
      "cell_type": "code",
      "source": [
        "str=\"vishwa Mohan\"\n",
        "print(str[2:5])"
      ],
      "metadata": {
        "colab": {
          "base_uri": "https://localhost:8080/"
        },
        "id": "oji6FANKux_o",
        "outputId": "37c8f2e4-ba66-4f83-acdb-ed1fa29ef15f"
      },
      "execution_count": 24,
      "outputs": [
        {
          "output_type": "stream",
          "name": "stdout",
          "text": [
            "shw\n"
          ]
        }
      ]
    },
    {
      "cell_type": "code",
      "source": [
        "print(str[2:])"
      ],
      "metadata": {
        "colab": {
          "base_uri": "https://localhost:8080/"
        },
        "id": "G3bU32WEvenB",
        "outputId": "680148ba-22b5-44ae-f06b-e98f1912a043"
      },
      "execution_count": 25,
      "outputs": [
        {
          "output_type": "stream",
          "name": "stdout",
          "text": [
            "shwa Mohan\n"
          ]
        }
      ]
    },
    {
      "cell_type": "code",
      "source": [
        "print(str[:7])"
      ],
      "metadata": {
        "colab": {
          "base_uri": "https://localhost:8080/"
        },
        "id": "KPPBLzZuvr17",
        "outputId": "8956ebb8-6d38-4320-cc75-86a85f5aca6f"
      },
      "execution_count": 26,
      "outputs": [
        {
          "output_type": "stream",
          "name": "stdout",
          "text": [
            "vishwa \n"
          ]
        }
      ]
    },
    {
      "cell_type": "code",
      "source": [
        "print(str[:])"
      ],
      "metadata": {
        "colab": {
          "base_uri": "https://localhost:8080/"
        },
        "id": "CM-ehvO6v05J",
        "outputId": "63337812-932b-4b97-a5a1-a4d3bf397309"
      },
      "execution_count": 27,
      "outputs": [
        {
          "output_type": "stream",
          "name": "stdout",
          "text": [
            "vishwa Mohan\n"
          ]
        }
      ]
    },
    {
      "cell_type": "code",
      "source": [
        "print(str[-9:-4])"
      ],
      "metadata": {
        "colab": {
          "base_uri": "https://localhost:8080/"
        },
        "id": "hW2P9xG5v4gC",
        "outputId": "4c71db0d-5dd7-4b77-f48f-7cd43c435fe0"
      },
      "execution_count": 28,
      "outputs": [
        {
          "output_type": "stream",
          "name": "stdout",
          "text": [
            "hwa M\n"
          ]
        }
      ]
    },
    {
      "cell_type": "code",
      "source": [
        "print(str[-9:9])"
      ],
      "metadata": {
        "colab": {
          "base_uri": "https://localhost:8080/"
        },
        "id": "GAb-nWhswANy",
        "outputId": "45af2d75-36fc-445c-ecec-717d8a05a391"
      },
      "execution_count": 29,
      "outputs": [
        {
          "output_type": "stream",
          "name": "stdout",
          "text": [
            "hwa Mo\n"
          ]
        }
      ]
    },
    {
      "cell_type": "code",
      "source": [
        "str=\" vishwa \"\n",
        "print(str.upper())"
      ],
      "metadata": {
        "colab": {
          "base_uri": "https://localhost:8080/"
        },
        "id": "4vHo7NCpwGn_",
        "outputId": "dd3da80a-7c93-4218-d1d0-8c2ee938ac6a"
      },
      "execution_count": 33,
      "outputs": [
        {
          "output_type": "stream",
          "name": "stdout",
          "text": [
            " VISHWA \n"
          ]
        }
      ]
    },
    {
      "cell_type": "code",
      "source": [
        "print(str.lower())"
      ],
      "metadata": {
        "colab": {
          "base_uri": "https://localhost:8080/"
        },
        "id": "wbxWh7cAwXBi",
        "outputId": "4ce69068-d074-4719-d5ca-d924aea26474"
      },
      "execution_count": 34,
      "outputs": [
        {
          "output_type": "stream",
          "name": "stdout",
          "text": [
            " vishwa \n"
          ]
        }
      ]
    },
    {
      "cell_type": "code",
      "source": [
        "print(str.capitalize())"
      ],
      "metadata": {
        "colab": {
          "base_uri": "https://localhost:8080/"
        },
        "id": "eEWnKcp1wY_7",
        "outputId": "7595d694-bd70-4d79-99d2-0e3fe630e8bd"
      },
      "execution_count": 35,
      "outputs": [
        {
          "output_type": "stream",
          "name": "stdout",
          "text": [
            " vishwa \n"
          ]
        }
      ]
    },
    {
      "cell_type": "code",
      "source": [
        "print(str.strip())"
      ],
      "metadata": {
        "colab": {
          "base_uri": "https://localhost:8080/"
        },
        "id": "9IBoqXaDwcVw",
        "outputId": "2a7a02f6-28b6-44c5-fc37-17d33ef92aaa"
      },
      "execution_count": 36,
      "outputs": [
        {
          "output_type": "stream",
          "name": "stdout",
          "text": [
            "vishwa\n"
          ]
        }
      ]
    },
    {
      "cell_type": "code",
      "source": [
        "str = \"Hello dear, I am very good, I am very nice,I am wow \"\n",
        "print(str.replace(\"I am\",\"we are\",2))"
      ],
      "metadata": {
        "colab": {
          "base_uri": "https://localhost:8080/"
        },
        "id": "zTgprW28wmNP",
        "outputId": "57cb981f-bc77-488a-e281-24de5a18ef32"
      },
      "execution_count": 40,
      "outputs": [
        {
          "output_type": "stream",
          "name": "stdout",
          "text": [
            "Hello dear, we are very good, we are very nice,I am wow \n"
          ]
        }
      ]
    },
    {
      "cell_type": "code",
      "source": [
        "print(\"Hello \\n Rito\")"
      ],
      "metadata": {
        "colab": {
          "base_uri": "https://localhost:8080/"
        },
        "id": "VeC2EzYsw-dp",
        "outputId": "efdc8dc5-7215-41d5-eadc-8547e9582626"
      },
      "execution_count": 41,
      "outputs": [
        {
          "output_type": "stream",
          "name": "stdout",
          "text": [
            "Hello \n",
            " Rito\n"
          ]
        }
      ]
    },
    {
      "cell_type": "code",
      "source": [
        "print(\"Rito\\tSarkar\")"
      ],
      "metadata": {
        "colab": {
          "base_uri": "https://localhost:8080/"
        },
        "id": "3PRfDnkHxhUp",
        "outputId": "d54dcef8-90b5-46bc-f6d3-bfdf2aa13820"
      },
      "execution_count": 42,
      "outputs": [
        {
          "output_type": "stream",
          "name": "stdout",
          "text": [
            "Rito\tSarkar\n"
          ]
        }
      ]
    },
    {
      "cell_type": "code",
      "source": [
        "print(\"Rito\\\"Sarkar\\\"\")"
      ],
      "metadata": {
        "colab": {
          "base_uri": "https://localhost:8080/"
        },
        "id": "n0_7ZIVFxoz-",
        "outputId": "13187fb5-77c1-47d7-ff8c-12fa671cf888"
      },
      "execution_count": 43,
      "outputs": [
        {
          "output_type": "stream",
          "name": "stdout",
          "text": [
            "Rito\"Sarkar\"\n"
          ]
        }
      ]
    },
    {
      "cell_type": "code",
      "source": [
        "#list"
      ],
      "metadata": {
        "id": "1dib-hEAxxhJ"
      },
      "execution_count": 44,
      "outputs": []
    },
    {
      "cell_type": "code",
      "source": [
        "students=[\"Mohan\",\"Vishwa\",\"Shivani\",\"Sakshi\"]\n",
        "print(students)\n",
        "print(type(students))"
      ],
      "metadata": {
        "colab": {
          "base_uri": "https://localhost:8080/"
        },
        "id": "Zuq80ADRyJNC",
        "outputId": "653fa4f5-115e-4133-de62-0f12e85c0a5a"
      },
      "execution_count": 45,
      "outputs": [
        {
          "output_type": "stream",
          "name": "stdout",
          "text": [
            "['Mohan', 'Vishwa', 'Shivani', 'Sakshi']\n",
            "<class 'list'>\n"
          ]
        }
      ]
    },
    {
      "cell_type": "code",
      "source": [
        "list2=list(students)\n",
        "print(list2)"
      ],
      "metadata": {
        "colab": {
          "base_uri": "https://localhost:8080/"
        },
        "id": "iKxjyTt9yYno",
        "outputId": "cf2d9bb2-d572-4ab0-900f-344bb28ccc5b"
      },
      "execution_count": 46,
      "outputs": [
        {
          "output_type": "stream",
          "name": "stdout",
          "text": [
            "['Mohan', 'Vishwa', 'Shivani', 'Sakshi']\n"
          ]
        }
      ]
    },
    {
      "cell_type": "code",
      "source": [
        "list3=list(\"Vishwa\")"
      ],
      "metadata": {
        "id": "-mrAO1NXyjgs"
      },
      "execution_count": 47,
      "outputs": []
    },
    {
      "cell_type": "code",
      "source": [
        "print(list3)"
      ],
      "metadata": {
        "colab": {
          "base_uri": "https://localhost:8080/"
        },
        "id": "vc2SU9Lzyn_r",
        "outputId": "1a3f204f-a359-4c96-f895-debe5d8e940f"
      },
      "execution_count": 48,
      "outputs": [
        {
          "output_type": "stream",
          "name": "stdout",
          "text": [
            "['V', 'i', 's', 'h', 'w', 'a']\n"
          ]
        }
      ]
    },
    {
      "cell_type": "code",
      "source": [
        "list3=list((3,4,\"Vishwa\"))\n",
        "print(list3)"
      ],
      "metadata": {
        "colab": {
          "base_uri": "https://localhost:8080/"
        },
        "id": "EwdNTtYHyrFL",
        "outputId": "31bf935b-9e08-4612-b689-f2d7ca95a770"
      },
      "execution_count": 51,
      "outputs": [
        {
          "output_type": "stream",
          "name": "stdout",
          "text": [
            "[3, 4, 'Vishwa']\n"
          ]
        }
      ]
    },
    {
      "cell_type": "code",
      "source": [
        "l1=[1,3,9,2,5,6,7]\n",
        "print(l1[3])"
      ],
      "metadata": {
        "colab": {
          "base_uri": "https://localhost:8080/"
        },
        "id": "D_j5Ijtdyxgp",
        "outputId": "7dfdacc5-70df-487a-b07d-56d6866bdc56"
      },
      "execution_count": 52,
      "outputs": [
        {
          "output_type": "stream",
          "name": "stdout",
          "text": [
            "2\n"
          ]
        }
      ]
    },
    {
      "cell_type": "code",
      "source": [
        "print(l1[-4])"
      ],
      "metadata": {
        "colab": {
          "base_uri": "https://localhost:8080/"
        },
        "id": "edE6ai8DzJRF",
        "outputId": "7f59e3e4-cfdb-47dc-f6e2-d25008efc2d1"
      },
      "execution_count": 53,
      "outputs": [
        {
          "output_type": "stream",
          "name": "stdout",
          "text": [
            "2\n"
          ]
        }
      ]
    },
    {
      "cell_type": "code",
      "source": [
        "print(l1[-6])"
      ],
      "metadata": {
        "colab": {
          "base_uri": "https://localhost:8080/"
        },
        "id": "4SJs0eLmzOnR",
        "outputId": "61ef3a20-94d8-45a0-ae20-a577a0843f08"
      },
      "execution_count": 54,
      "outputs": [
        {
          "output_type": "stream",
          "name": "stdout",
          "text": [
            "3\n"
          ]
        }
      ]
    },
    {
      "cell_type": "code",
      "source": [
        "arr=[3,2,1,5,9]\n",
        "arr.append(11)"
      ],
      "metadata": {
        "id": "4DuzIXt4zS9T"
      },
      "execution_count": 55,
      "outputs": []
    },
    {
      "cell_type": "code",
      "source": [
        "print(arr)"
      ],
      "metadata": {
        "colab": {
          "base_uri": "https://localhost:8080/"
        },
        "id": "15cvHk9GzyL2",
        "outputId": "8b0d336c-b145-48ff-dd99-7460b07c9939"
      },
      "execution_count": 56,
      "outputs": [
        {
          "output_type": "stream",
          "name": "stdout",
          "text": [
            "[3, 2, 1, 5, 9, 11]\n"
          ]
        }
      ]
    },
    {
      "cell_type": "code",
      "source": [
        "arr.insert(3,43)\n",
        "print(arr)"
      ],
      "metadata": {
        "colab": {
          "base_uri": "https://localhost:8080/"
        },
        "id": "FNZSLsp1zz5U",
        "outputId": "256951f6-dfd3-4f12-dee4-8b24c37f3736"
      },
      "execution_count": 57,
      "outputs": [
        {
          "output_type": "stream",
          "name": "stdout",
          "text": [
            "[3, 2, 1, 43, 5, 9, 11]\n"
          ]
        }
      ]
    },
    {
      "cell_type": "code",
      "source": [
        "l1=[1,2]\n",
        "l2=[\"Vishwa\",\"Mohan\"]\n",
        "l1.extend(l2)\n",
        "print(l1)"
      ],
      "metadata": {
        "colab": {
          "base_uri": "https://localhost:8080/"
        },
        "id": "TbhNEJLHz69X",
        "outputId": "6ea5e060-7ed0-4904-e2d7-27cbcdc8e7aa"
      },
      "execution_count": 58,
      "outputs": [
        {
          "output_type": "stream",
          "name": "stdout",
          "text": [
            "[1, 2, 'Vishwa', 'Mohan']\n"
          ]
        }
      ]
    },
    {
      "cell_type": "code",
      "source": [
        "arr=[3,5,2,1,9]\n",
        "arr.remove(1)"
      ],
      "metadata": {
        "id": "GTE1z8kh0L7Z"
      },
      "execution_count": 59,
      "outputs": []
    },
    {
      "cell_type": "code",
      "source": [
        "print(arr)"
      ],
      "metadata": {
        "colab": {
          "base_uri": "https://localhost:8080/"
        },
        "id": "izSC5h7U0dkG",
        "outputId": "25a5da47-92ae-4442-df7c-8c46f564b8ad"
      },
      "execution_count": 60,
      "outputs": [
        {
          "output_type": "stream",
          "name": "stdout",
          "text": [
            "[3, 5, 2, 9]\n"
          ]
        }
      ]
    },
    {
      "cell_type": "code",
      "source": [
        "arr=[3,5,2,1,9,1,8,1]\n",
        "arr.remove(1)\n",
        "print(arr)"
      ],
      "metadata": {
        "colab": {
          "base_uri": "https://localhost:8080/"
        },
        "id": "3fIJc3KO0e7C",
        "outputId": "1da89159-aa52-41d4-e13c-1a4141423ec9"
      },
      "execution_count": 61,
      "outputs": [
        {
          "output_type": "stream",
          "name": "stdout",
          "text": [
            "[3, 5, 2, 9, 1, 8, 1]\n"
          ]
        }
      ]
    },
    {
      "cell_type": "code",
      "source": [
        "arr.pop()\n",
        "print(arr)"
      ],
      "metadata": {
        "colab": {
          "base_uri": "https://localhost:8080/"
        },
        "id": "c96cWmGx0rWc",
        "outputId": "d193aa85-0283-4fc2-81ca-6b49721bc686"
      },
      "execution_count": 62,
      "outputs": [
        {
          "output_type": "stream",
          "name": "stdout",
          "text": [
            "[3, 5, 2, 9, 1, 8]\n"
          ]
        }
      ]
    },
    {
      "cell_type": "code",
      "source": [
        "arr.pop(2)\n",
        "print(arr)"
      ],
      "metadata": {
        "colab": {
          "base_uri": "https://localhost:8080/"
        },
        "id": "-hyog67803n4",
        "outputId": "a3e3e991-d174-48bb-ed47-3c38ac4359ac"
      },
      "execution_count": 63,
      "outputs": [
        {
          "output_type": "stream",
          "name": "stdout",
          "text": [
            "[3, 5, 9, 1, 8]\n"
          ]
        }
      ]
    },
    {
      "cell_type": "markdown",
      "source": [
        "replace"
      ],
      "metadata": {
        "id": "XgcV2PGP1w2N"
      }
    },
    {
      "cell_type": "code",
      "source": [
        "students=['a','b','c','d','e']\n",
        "students[3]='f'\n",
        "print(students)"
      ],
      "metadata": {
        "colab": {
          "base_uri": "https://localhost:8080/"
        },
        "id": "iJPBXmh60_h_",
        "outputId": "e38ac480-b19d-4c5e-99e9-c5f5de1928bb"
      },
      "execution_count": 64,
      "outputs": [
        {
          "output_type": "stream",
          "name": "stdout",
          "text": [
            "['a', 'b', 'c', 'f', 'e']\n"
          ]
        }
      ]
    },
    {
      "cell_type": "code",
      "source": [
        "students[1:4]='m','n','o'\n",
        "print(students)"
      ],
      "metadata": {
        "colab": {
          "base_uri": "https://localhost:8080/"
        },
        "id": "bgUSoo6A1X34",
        "outputId": "97cd08ef-9c2e-491e-ce7b-9f5e8c43b2bb"
      },
      "execution_count": 66,
      "outputs": [
        {
          "output_type": "stream",
          "name": "stdout",
          "text": [
            "['a', 'm', 'n', 'o', 'e']\n"
          ]
        }
      ]
    },
    {
      "cell_type": "code",
      "source": [
        "students[1:4]='m','n'\n",
        "print(students)"
      ],
      "metadata": {
        "colab": {
          "base_uri": "https://localhost:8080/"
        },
        "id": "riaiID191dRE",
        "outputId": "4ca163e3-9763-4970-9dc0-3ce7e51a7505"
      },
      "execution_count": 67,
      "outputs": [
        {
          "output_type": "stream",
          "name": "stdout",
          "text": [
            "['a', 'm', 'n', 'e']\n"
          ]
        }
      ]
    },
    {
      "cell_type": "code",
      "source": [
        "students.reverse()\n",
        "print(students)"
      ],
      "metadata": {
        "colab": {
          "base_uri": "https://localhost:8080/"
        },
        "id": "AK3Iy6U916Wc",
        "outputId": "e581368f-9d03-4246-debe-8a2d9bdc6d79"
      },
      "execution_count": 70,
      "outputs": [
        {
          "output_type": "stream",
          "name": "stdout",
          "text": [
            "['e', 'n', 'm', 'a']\n"
          ]
        }
      ]
    },
    {
      "cell_type": "code",
      "source": [
        "students_copy=students.copy()\n",
        "print(students_copy)\n",
        "print(id(students_copy),id(students))"
      ],
      "metadata": {
        "colab": {
          "base_uri": "https://localhost:8080/"
        },
        "id": "yVApxxot2Eyq",
        "outputId": "57b4f8ea-3605-4f79-ac46-5543962d2989"
      },
      "execution_count": 71,
      "outputs": [
        {
          "output_type": "stream",
          "name": "stdout",
          "text": [
            "['e', 'n', 'm', 'a']\n",
            "138836136752640 138836137151872\n"
          ]
        }
      ]
    },
    {
      "cell_type": "markdown",
      "source": [
        "tuple"
      ],
      "metadata": {
        "id": "sw_Dc0hF26gM"
      }
    },
    {
      "cell_type": "code",
      "source": [
        "tuple1=(3,6,1,9,10)\n",
        "print(tuple1)\n",
        "print(type(tuple1))"
      ],
      "metadata": {
        "colab": {
          "base_uri": "https://localhost:8080/"
        },
        "id": "2ZusLWFZ2fv_",
        "outputId": "70bf22ec-6acc-4f00-e498-141fbf78b39e"
      },
      "execution_count": 72,
      "outputs": [
        {
          "output_type": "stream",
          "name": "stdout",
          "text": [
            "(3, 6, 1, 9, 10)\n",
            "<class 'tuple'>\n"
          ]
        }
      ]
    },
    {
      "cell_type": "code",
      "source": [
        "t1=tuple([1,2,4])\n",
        "print(t1)"
      ],
      "metadata": {
        "colab": {
          "base_uri": "https://localhost:8080/"
        },
        "id": "mfc7xfok3EZH",
        "outputId": "962e94a3-c39c-4847-bc11-500af248d6bd"
      },
      "execution_count": 73,
      "outputs": [
        {
          "output_type": "stream",
          "name": "stdout",
          "text": [
            "(1, 2, 4)\n"
          ]
        }
      ]
    },
    {
      "cell_type": "code",
      "source": [
        "t2=tuple(\"Vishwa\")\n",
        "print(t2)"
      ],
      "metadata": {
        "colab": {
          "base_uri": "https://localhost:8080/"
        },
        "id": "L9zlSKAn3OX8",
        "outputId": "02e237eb-177b-4406-bd57-28daac821b4c"
      },
      "execution_count": 74,
      "outputs": [
        {
          "output_type": "stream",
          "name": "stdout",
          "text": [
            "('V', 'i', 's', 'h', 'w', 'a')\n"
          ]
        }
      ]
    },
    {
      "cell_type": "code",
      "source": [
        "t3=tuple(t2)\n",
        "print(t3)"
      ],
      "metadata": {
        "colab": {
          "base_uri": "https://localhost:8080/"
        },
        "id": "4nrrmpLB3ZOR",
        "outputId": "32f8f9a4-a416-410a-ae3f-24e8ba88deb0"
      },
      "execution_count": 75,
      "outputs": [
        {
          "output_type": "stream",
          "name": "stdout",
          "text": [
            "('V', 'i', 's', 'h', 'w', 'a')\n"
          ]
        }
      ]
    },
    {
      "cell_type": "code",
      "source": [
        "t = (35)\n",
        "print(type(t))"
      ],
      "metadata": {
        "colab": {
          "base_uri": "https://localhost:8080/"
        },
        "id": "Z_je9CXS3cPo",
        "outputId": "462e2839-85e3-4d71-95db-e93f5da444a7"
      },
      "execution_count": 76,
      "outputs": [
        {
          "output_type": "stream",
          "name": "stdout",
          "text": [
            "<class 'int'>\n"
          ]
        }
      ]
    },
    {
      "cell_type": "code",
      "source": [
        "t= (35,)\n",
        "print(type(t))"
      ],
      "metadata": {
        "colab": {
          "base_uri": "https://localhost:8080/"
        },
        "id": "bPCZIFzN3jeM",
        "outputId": "6f34c2d8-7e95-40ff-dd3b-d04709c01601"
      },
      "execution_count": 77,
      "outputs": [
        {
          "output_type": "stream",
          "name": "stdout",
          "text": [
            "<class 'tuple'>\n"
          ]
        }
      ]
    },
    {
      "cell_type": "code",
      "source": [
        "fruits=('apple','banana','mango','apple','mango','apple','strawberry')\n",
        "print(fruits.count('apple'))"
      ],
      "metadata": {
        "colab": {
          "base_uri": "https://localhost:8080/"
        },
        "id": "DxPNvuhG3nDR",
        "outputId": "2f6aeb83-afd4-45f9-df33-101a0cd84ed4"
      },
      "execution_count": 78,
      "outputs": [
        {
          "output_type": "stream",
          "name": "stdout",
          "text": [
            "3\n"
          ]
        }
      ]
    },
    {
      "cell_type": "code",
      "source": [
        "print(fruits.count('jackfruit'))"
      ],
      "metadata": {
        "colab": {
          "base_uri": "https://localhost:8080/"
        },
        "id": "Uw4wf2TH4AJx",
        "outputId": "61bab889-e41f-45c3-a73c-dc764faa4c65"
      },
      "execution_count": 79,
      "outputs": [
        {
          "output_type": "stream",
          "name": "stdout",
          "text": [
            "0\n"
          ]
        }
      ]
    },
    {
      "cell_type": "code",
      "source": [
        "print(fruits.index('jackfruit'))"
      ],
      "metadata": {
        "colab": {
          "base_uri": "https://localhost:8080/",
          "height": 144
        },
        "id": "JBtcYxVS4DRy",
        "outputId": "677ca9a4-4d49-43f3-e3f7-347c3f862ffa"
      },
      "execution_count": 80,
      "outputs": [
        {
          "output_type": "error",
          "ename": "ValueError",
          "evalue": "tuple.index(x): x not in tuple",
          "traceback": [
            "\u001b[0;31m---------------------------------------------------------------------------\u001b[0m",
            "\u001b[0;31mValueError\u001b[0m                                Traceback (most recent call last)",
            "\u001b[0;32m<ipython-input-80-735eaf9e0011>\u001b[0m in \u001b[0;36m<cell line: 1>\u001b[0;34m()\u001b[0m\n\u001b[0;32m----> 1\u001b[0;31m \u001b[0mprint\u001b[0m\u001b[0;34m(\u001b[0m\u001b[0mfruits\u001b[0m\u001b[0;34m.\u001b[0m\u001b[0mindex\u001b[0m\u001b[0;34m(\u001b[0m\u001b[0;34m'jackfruit'\u001b[0m\u001b[0;34m)\u001b[0m\u001b[0;34m)\u001b[0m\u001b[0;34m\u001b[0m\u001b[0;34m\u001b[0m\u001b[0m\n\u001b[0m",
            "\u001b[0;31mValueError\u001b[0m: tuple.index(x): x not in tuple"
          ]
        }
      ]
    },
    {
      "cell_type": "code",
      "source": [
        "print(fruits.index('mango'))"
      ],
      "metadata": {
        "colab": {
          "base_uri": "https://localhost:8080/"
        },
        "id": "XKMY7Ps94QlR",
        "outputId": "7495fed1-8f5b-4b33-e146-81382ea3f2a8"
      },
      "execution_count": 82,
      "outputs": [
        {
          "output_type": "stream",
          "name": "stdout",
          "text": [
            "2\n"
          ]
        }
      ]
    },
    {
      "cell_type": "code",
      "source": [
        "print(len(fruits))"
      ],
      "metadata": {
        "colab": {
          "base_uri": "https://localhost:8080/"
        },
        "id": "6Dxoyn-a4UKa",
        "outputId": "8acce487-6d41-4e94-af38-98ec055e4a65"
      },
      "execution_count": 83,
      "outputs": [
        {
          "output_type": "stream",
          "name": "stdout",
          "text": [
            "7\n"
          ]
        }
      ]
    },
    {
      "cell_type": "code",
      "source": [
        "fruits=('apple','banana','mango','apple','mango','apple','strawberry')\n",
        "print(fruits[3])"
      ],
      "metadata": {
        "colab": {
          "base_uri": "https://localhost:8080/"
        },
        "id": "M1koNxZ44dUa",
        "outputId": "d874ff60-fbe3-4222-a0b3-eb0b89bc0a24"
      },
      "execution_count": 84,
      "outputs": [
        {
          "output_type": "stream",
          "name": "stdout",
          "text": [
            "apple\n"
          ]
        }
      ]
    },
    {
      "cell_type": "code",
      "source": [
        "print(fruits[-3])"
      ],
      "metadata": {
        "colab": {
          "base_uri": "https://localhost:8080/"
        },
        "id": "4Vo_6SfI4v1G",
        "outputId": "02d4c28b-d3ee-4e40-e4be-37d74ab65f1a"
      },
      "execution_count": 85,
      "outputs": [
        {
          "output_type": "stream",
          "name": "stdout",
          "text": [
            "mango\n"
          ]
        }
      ]
    },
    {
      "cell_type": "code",
      "source": [
        "fruits[3]=\"jackfruits\""
      ],
      "metadata": {
        "colab": {
          "base_uri": "https://localhost:8080/",
          "height": 144
        },
        "id": "6NHF5MnS4x16",
        "outputId": "759f6e7c-d597-4111-f83d-9d061ac433a1"
      },
      "execution_count": 86,
      "outputs": [
        {
          "output_type": "error",
          "ename": "TypeError",
          "evalue": "'tuple' object does not support item assignment",
          "traceback": [
            "\u001b[0;31m---------------------------------------------------------------------------\u001b[0m",
            "\u001b[0;31mTypeError\u001b[0m                                 Traceback (most recent call last)",
            "\u001b[0;32m<ipython-input-86-ed2c8416606a>\u001b[0m in \u001b[0;36m<cell line: 1>\u001b[0;34m()\u001b[0m\n\u001b[0;32m----> 1\u001b[0;31m \u001b[0mfruits\u001b[0m\u001b[0;34m[\u001b[0m\u001b[0;36m3\u001b[0m\u001b[0;34m]\u001b[0m\u001b[0;34m=\u001b[0m\u001b[0;34m\"jackfruits\"\u001b[0m\u001b[0;34m\u001b[0m\u001b[0;34m\u001b[0m\u001b[0m\n\u001b[0m",
            "\u001b[0;31mTypeError\u001b[0m: 'tuple' object does not support item assignment"
          ]
        }
      ]
    },
    {
      "cell_type": "code",
      "source": [
        "print(fruits[2:7])"
      ],
      "metadata": {
        "colab": {
          "base_uri": "https://localhost:8080/"
        },
        "id": "i27DSXM5465o",
        "outputId": "c7deef40-d2cd-497c-e24e-15f38c022080"
      },
      "execution_count": 87,
      "outputs": [
        {
          "output_type": "stream",
          "name": "stdout",
          "text": [
            "('mango', 'apple', 'mango', 'apple', 'strawberry')\n"
          ]
        }
      ]
    },
    {
      "cell_type": "code",
      "source": [
        "#dictionary"
      ],
      "metadata": {
        "id": "6s0Z0Ai05F3T"
      },
      "execution_count": 88,
      "outputs": []
    },
    {
      "cell_type": "code",
      "source": [
        "students_details={\n",
        "    'name':'Vishwa',\n",
        "    'age':'21',\n",
        "    'city':'bangalore'\n",
        "}\n",
        "print(students_details)"
      ],
      "metadata": {
        "colab": {
          "base_uri": "https://localhost:8080/"
        },
        "id": "VPPyBRwb5vr7",
        "outputId": "a443affb-2697-40b5-b5bd-45be98d26650"
      },
      "execution_count": 91,
      "outputs": [
        {
          "output_type": "stream",
          "name": "stdout",
          "text": [
            "{'name': 'Vishwa', 'age': '21', 'city': 'bangalore'}\n"
          ]
        }
      ]
    },
    {
      "cell_type": "code",
      "source": [
        "print(type(students_details))"
      ],
      "metadata": {
        "colab": {
          "base_uri": "https://localhost:8080/"
        },
        "id": "0Zlaj6BG6BHk",
        "outputId": "cb659a7c-7833-4c7b-bdda-21a73683d6f2"
      },
      "execution_count": 90,
      "outputs": [
        {
          "output_type": "stream",
          "name": "stdout",
          "text": [
            "<class 'dict'>\n"
          ]
        }
      ]
    },
    {
      "cell_type": "code",
      "source": [
        "dict1={1:\"Vishwa\",2:\"Mohan\",True:'Love'}\n",
        "print((dict1))"
      ],
      "metadata": {
        "colab": {
          "base_uri": "https://localhost:8080/"
        },
        "id": "oNa6WLgC6Ht3",
        "outputId": "49d4b52e-1f87-4e8d-f9c2-35a068ba85d5"
      },
      "execution_count": 95,
      "outputs": [
        {
          "output_type": "stream",
          "name": "stdout",
          "text": [
            "{1: 'Love', 2: 'Mohan'}\n"
          ]
        }
      ]
    },
    {
      "cell_type": "code",
      "source": [
        "dict1=dict(name=\"Vishwa\",age=\"Moahan\")\n",
        "print(dict1)"
      ],
      "metadata": {
        "colab": {
          "base_uri": "https://localhost:8080/"
        },
        "id": "5jg5j0236bME",
        "outputId": "d7b697c3-76d7-41c8-8c57-cccdf7bde5bf"
      },
      "execution_count": 96,
      "outputs": [
        {
          "output_type": "stream",
          "name": "stdout",
          "text": [
            "{'name': 'Vishwa', 'age': 'Moahan'}\n"
          ]
        }
      ]
    },
    {
      "cell_type": "code",
      "source": [
        "students_details={\n",
        "    'name':'Vishwa',\n",
        "    'age':'21',\n",
        "    'city':'bangalore'\n",
        "}\n",
        "print(students_details['name'])"
      ],
      "metadata": {
        "colab": {
          "base_uri": "https://localhost:8080/"
        },
        "id": "TSE0OuuT6_mR",
        "outputId": "55a66824-8a82-4a7f-e208-a0599f84e613"
      },
      "execution_count": 97,
      "outputs": [
        {
          "output_type": "stream",
          "name": "stdout",
          "text": [
            "Vishwa\n"
          ]
        }
      ]
    },
    {
      "cell_type": "code",
      "source": [
        "print(students_details.keys())"
      ],
      "metadata": {
        "colab": {
          "base_uri": "https://localhost:8080/"
        },
        "id": "7M79xyDu7Q0E",
        "outputId": "37b0704a-82c0-43e8-c8dc-429d81dfa89e"
      },
      "execution_count": 99,
      "outputs": [
        {
          "output_type": "stream",
          "name": "stdout",
          "text": [
            "dict_keys(['name', 'age', 'city'])\n"
          ]
        }
      ]
    },
    {
      "cell_type": "code",
      "source": [
        "print(students_details.values())"
      ],
      "metadata": {
        "colab": {
          "base_uri": "https://localhost:8080/"
        },
        "id": "maKc_tsc7bHu",
        "outputId": "9bb2848f-c661-4220-e5b1-975893281dd2"
      },
      "execution_count": 100,
      "outputs": [
        {
          "output_type": "stream",
          "name": "stdout",
          "text": [
            "dict_values(['Vishwa', '21', 'bangalore'])\n"
          ]
        }
      ]
    },
    {
      "cell_type": "code",
      "source": [
        "print(students_details.items())"
      ],
      "metadata": {
        "colab": {
          "base_uri": "https://localhost:8080/"
        },
        "id": "uMR9WJif7snB",
        "outputId": "7ea4d768-47dd-4bef-8002-ea1f34eb9bf7"
      },
      "execution_count": 101,
      "outputs": [
        {
          "output_type": "stream",
          "name": "stdout",
          "text": [
            "dict_items([('name', 'Vishwa'), ('age', '21'), ('city', 'bangalore')])\n"
          ]
        }
      ]
    },
    {
      "cell_type": "code",
      "source": [
        "students_details={\n",
        "    'name':'Vishwa',\n",
        "    'age':'21',\n",
        "    'city':'bangalore'\n",
        "}\n",
        "students_details['country']=\"India\"\n",
        "print(students_details)"
      ],
      "metadata": {
        "colab": {
          "base_uri": "https://localhost:8080/"
        },
        "id": "6XMNgN6s7vF5",
        "outputId": "c51db12a-217b-49bf-bbc6-f63cf00a701e"
      },
      "execution_count": 103,
      "outputs": [
        {
          "output_type": "stream",
          "name": "stdout",
          "text": [
            "{'name': 'Vishwa', 'age': '21', 'city': 'bangalore', 'country': 'India'}\n"
          ]
        }
      ]
    },
    {
      "cell_type": "code",
      "source": [
        "marks_details = {\n",
        "    'English':100,\n",
        "    'Maths':78,\n",
        "    'Science':92\n",
        "}\n",
        "students_details.update(marks_details)\n",
        "print(students_details)"
      ],
      "metadata": {
        "colab": {
          "base_uri": "https://localhost:8080/"
        },
        "id": "lYXeYfDh8AkY",
        "outputId": "11eccecb-8df9-488f-8b41-588017349d37"
      },
      "execution_count": 104,
      "outputs": [
        {
          "output_type": "stream",
          "name": "stdout",
          "text": [
            "{'name': 'Vishwa', 'age': '21', 'city': 'bangalore', 'country': 'India', 'English': 100, 'Maths': 78, 'Science': 92}\n"
          ]
        }
      ]
    },
    {
      "cell_type": "code",
      "source": [
        "print(students_details.pop('city'))"
      ],
      "metadata": {
        "colab": {
          "base_uri": "https://localhost:8080/"
        },
        "id": "qoWUvw2P8dUn",
        "outputId": "4abe954a-aee5-4df0-fd39-5885d39e8d8e"
      },
      "execution_count": 105,
      "outputs": [
        {
          "output_type": "stream",
          "name": "stdout",
          "text": [
            "bangalore\n"
          ]
        }
      ]
    },
    {
      "cell_type": "code",
      "source": [
        "print(students_details)\n"
      ],
      "metadata": {
        "colab": {
          "base_uri": "https://localhost:8080/"
        },
        "id": "0hYvQyxh8_mv",
        "outputId": "2684d190-3b41-4254-db2d-d0ff7af936db"
      },
      "execution_count": 106,
      "outputs": [
        {
          "output_type": "stream",
          "name": "stdout",
          "text": [
            "{'name': 'Vishwa', 'age': '21', 'country': 'India', 'English': 100, 'Maths': 78, 'Science': 92}\n"
          ]
        }
      ]
    },
    {
      "cell_type": "code",
      "source": [
        "print(students_details.popitem())\n",
        "print(students_details)"
      ],
      "metadata": {
        "colab": {
          "base_uri": "https://localhost:8080/"
        },
        "id": "vdluPXGi9DK1",
        "outputId": "e51495f5-906f-4579-e8f5-d4d1cb793809"
      },
      "execution_count": 108,
      "outputs": [
        {
          "output_type": "stream",
          "name": "stdout",
          "text": [
            "('Science', 92)\n",
            "{'name': 'Vishwa', 'age': '21', 'country': 'India', 'English': 100, 'Maths': 78}\n"
          ]
        }
      ]
    },
    {
      "cell_type": "code",
      "source": [
        "del students_details['age']\n",
        "print(students_details)"
      ],
      "metadata": {
        "colab": {
          "base_uri": "https://localhost:8080/"
        },
        "id": "S1Ef2SBi9G_W",
        "outputId": "eed41efd-e927-4d2c-ba3b-dc062de2b913"
      },
      "execution_count": 109,
      "outputs": [
        {
          "output_type": "stream",
          "name": "stdout",
          "text": [
            "{'name': 'Vishwa', 'country': 'India', 'English': 100, 'Maths': 78}\n"
          ]
        }
      ]
    },
    {
      "cell_type": "code",
      "source": [
        "students_details.clear()"
      ],
      "metadata": {
        "id": "KpRiBTrG9Wb1"
      },
      "execution_count": 110,
      "outputs": []
    },
    {
      "cell_type": "code",
      "source": [
        "print(students_details)"
      ],
      "metadata": {
        "colab": {
          "base_uri": "https://localhost:8080/"
        },
        "id": "xAqLnlvn9l6E",
        "outputId": "ec9b75e2-11d8-4890-b1be-4373544e1153"
      },
      "execution_count": 111,
      "outputs": [
        {
          "output_type": "stream",
          "name": "stdout",
          "text": [
            "{}\n"
          ]
        }
      ]
    },
    {
      "cell_type": "code",
      "source": [
        "#SET"
      ],
      "metadata": {
        "id": "ah9MiNUH9oit"
      },
      "execution_count": 112,
      "outputs": []
    },
    {
      "cell_type": "code",
      "source": [
        "my_set={1,2,3,5}\n",
        "print(my_set)\n",
        "print(type(my_set))"
      ],
      "metadata": {
        "colab": {
          "base_uri": "https://localhost:8080/"
        },
        "id": "tRLTvQNP9-Nf",
        "outputId": "af7d3ea6-bf60-42b8-d18b-80ffc82540f0"
      },
      "execution_count": 113,
      "outputs": [
        {
          "output_type": "stream",
          "name": "stdout",
          "text": [
            "{1, 2, 3, 5}\n",
            "<class 'set'>\n"
          ]
        }
      ]
    },
    {
      "cell_type": "code",
      "source": [
        "s1={1,4,5,2,1,9,7,4,1}\n",
        "print(s1)"
      ],
      "metadata": {
        "colab": {
          "base_uri": "https://localhost:8080/"
        },
        "id": "lDnIhCLy-FHl",
        "outputId": "70f1b070-c12a-4d5e-dbe0-b0117462ce22"
      },
      "execution_count": 114,
      "outputs": [
        {
          "output_type": "stream",
          "name": "stdout",
          "text": [
            "{1, 2, 4, 5, 7, 9}\n"
          ]
        }
      ]
    },
    {
      "cell_type": "code",
      "source": [
        "s2=set()\n",
        "print(s2)"
      ],
      "metadata": {
        "colab": {
          "base_uri": "https://localhost:8080/"
        },
        "id": "4sVQ5hUY-K51",
        "outputId": "88b25ed7-e87f-4b73-e6a8-f063b4e030e0"
      },
      "execution_count": 115,
      "outputs": [
        {
          "output_type": "stream",
          "name": "stdout",
          "text": [
            "set()\n"
          ]
        }
      ]
    },
    {
      "cell_type": "code",
      "source": [
        "s3=set({5,6,7})\n",
        "print(s3)"
      ],
      "metadata": {
        "colab": {
          "base_uri": "https://localhost:8080/"
        },
        "id": "qV4Muusr-R6z",
        "outputId": "0a49be99-4d44-46a4-8fe8-1029cf3fb488"
      },
      "execution_count": 116,
      "outputs": [
        {
          "output_type": "stream",
          "name": "stdout",
          "text": [
            "{5, 6, 7}\n"
          ]
        }
      ]
    },
    {
      "cell_type": "code",
      "source": [
        "s=set()\n",
        "s.add(5)\n",
        "s.add(13)\n",
        "s.add(5)\n",
        "s.add(12)\n",
        "print(s)"
      ],
      "metadata": {
        "colab": {
          "base_uri": "https://localhost:8080/"
        },
        "id": "0WSYZxix-XVN",
        "outputId": "bb762638-5170-48b8-c885-d95db919be6e"
      },
      "execution_count": 117,
      "outputs": [
        {
          "output_type": "stream",
          "name": "stdout",
          "text": [
            "{13, 12, 5}\n"
          ]
        }
      ]
    },
    {
      "cell_type": "code",
      "source": [
        "s1={3,9,7,4}\n",
        "print(s1.discard(7))\n",
        "print(s1)"
      ],
      "metadata": {
        "colab": {
          "base_uri": "https://localhost:8080/"
        },
        "id": "V3mSvbzS-g3T",
        "outputId": "f03f2eeb-399d-4ebe-c58a-96a51d2272d9"
      },
      "execution_count": 118,
      "outputs": [
        {
          "output_type": "stream",
          "name": "stdout",
          "text": [
            "None\n",
            "{9, 3, 4}\n"
          ]
        }
      ]
    },
    {
      "cell_type": "code",
      "source": [
        "s1.remove(12)"
      ],
      "metadata": {
        "colab": {
          "base_uri": "https://localhost:8080/",
          "height": 144
        },
        "id": "JhFlX8Zd-yGd",
        "outputId": "4f6d0f38-afb4-4fa3-d50f-6081414225fd"
      },
      "execution_count": 119,
      "outputs": [
        {
          "output_type": "error",
          "ename": "KeyError",
          "evalue": "12",
          "traceback": [
            "\u001b[0;31m---------------------------------------------------------------------------\u001b[0m",
            "\u001b[0;31mKeyError\u001b[0m                                  Traceback (most recent call last)",
            "\u001b[0;32m<ipython-input-119-492049840ed8>\u001b[0m in \u001b[0;36m<cell line: 1>\u001b[0;34m()\u001b[0m\n\u001b[0;32m----> 1\u001b[0;31m \u001b[0ms1\u001b[0m\u001b[0;34m.\u001b[0m\u001b[0mremove\u001b[0m\u001b[0;34m(\u001b[0m\u001b[0;36m12\u001b[0m\u001b[0;34m)\u001b[0m\u001b[0;34m\u001b[0m\u001b[0;34m\u001b[0m\u001b[0m\n\u001b[0m",
            "\u001b[0;31mKeyError\u001b[0m: 12"
          ]
        }
      ]
    },
    {
      "cell_type": "code",
      "source": [
        "#frozen set"
      ],
      "metadata": {
        "id": "kmiBowhe-5-k"
      },
      "execution_count": 120,
      "outputs": []
    },
    {
      "cell_type": "code",
      "source": [
        "fs=frozenset([1,2,3])"
      ],
      "metadata": {
        "id": "lU-8a8eB_GXF"
      },
      "execution_count": 121,
      "outputs": []
    },
    {
      "cell_type": "code",
      "source": [
        "print(fs)"
      ],
      "metadata": {
        "colab": {
          "base_uri": "https://localhost:8080/"
        },
        "id": "0LlhkUf3_JwX",
        "outputId": "eef53978-3f68-4878-ac9d-32833cf09602"
      },
      "execution_count": 122,
      "outputs": [
        {
          "output_type": "stream",
          "name": "stdout",
          "text": [
            "frozenset({1, 2, 3})\n"
          ]
        }
      ]
    },
    {
      "cell_type": "code",
      "source": [
        "print(type(fs))"
      ],
      "metadata": {
        "colab": {
          "base_uri": "https://localhost:8080/"
        },
        "id": "pZEM8gxl_K-X",
        "outputId": "86d38bf5-897f-4cb6-b8ae-d7180c8ffb5c"
      },
      "execution_count": 123,
      "outputs": [
        {
          "output_type": "stream",
          "name": "stdout",
          "text": [
            "<class 'frozenset'>\n"
          ]
        }
      ]
    },
    {
      "cell_type": "code",
      "source": [
        "fs2=frozenset({1,2,3})"
      ],
      "metadata": {
        "id": "seSdK2iF_MLc"
      },
      "execution_count": 124,
      "outputs": []
    },
    {
      "cell_type": "code",
      "source": [
        "dict1={fs2:'Vishwa'}\n",
        "print(dict1)"
      ],
      "metadata": {
        "colab": {
          "base_uri": "https://localhost:8080/"
        },
        "id": "cLZEG2Eb_PV-",
        "outputId": "0c7acc95-087a-459c-94d6-33b60fc3abd7"
      },
      "execution_count": 125,
      "outputs": [
        {
          "output_type": "stream",
          "name": "stdout",
          "text": [
            "{frozenset({1, 2, 3}): 'Vishwa'}\n"
          ]
        }
      ]
    },
    {
      "cell_type": "code",
      "source": [
        "#IMPLICIT TYPE CASTING"
      ],
      "metadata": {
        "id": "Fxgw7au0_bCF"
      },
      "execution_count": 126,
      "outputs": []
    },
    {
      "cell_type": "code",
      "source": [
        "x=5\n",
        "y=6.5\n",
        "result=x+y\n",
        "print(result)"
      ],
      "metadata": {
        "colab": {
          "base_uri": "https://localhost:8080/"
        },
        "id": "7FrfitkE_xjo",
        "outputId": "dc3912a3-a773-4367-d535-11ea7362d9d0"
      },
      "execution_count": 127,
      "outputs": [
        {
          "output_type": "stream",
          "name": "stdout",
          "text": [
            "11.5\n"
          ]
        }
      ]
    },
    {
      "cell_type": "code",
      "source": [
        "#explicit type casting"
      ],
      "metadata": {
        "id": "2s7zeuRJ_17Z"
      },
      "execution_count": 128,
      "outputs": []
    },
    {
      "cell_type": "code",
      "source": [
        "y='10'\n",
        "print(type(y))"
      ],
      "metadata": {
        "colab": {
          "base_uri": "https://localhost:8080/"
        },
        "id": "fbFkgXZ9_6pT",
        "outputId": "ecb2e5a3-28f5-45f4-e301-669d51c61994"
      },
      "execution_count": 129,
      "outputs": [
        {
          "output_type": "stream",
          "name": "stdout",
          "text": [
            "<class 'str'>\n"
          ]
        }
      ]
    },
    {
      "cell_type": "code",
      "source": [
        "int_y=int(y)"
      ],
      "metadata": {
        "id": "LVu_wexy_9Yy"
      },
      "execution_count": 130,
      "outputs": []
    },
    {
      "cell_type": "code",
      "source": [
        "print(type(int_y))"
      ],
      "metadata": {
        "colab": {
          "base_uri": "https://localhost:8080/"
        },
        "id": "xkp8rvuGAAW1",
        "outputId": "0d54998d-e303-4e10-c453-1e84a77892cd"
      },
      "execution_count": 131,
      "outputs": [
        {
          "output_type": "stream",
          "name": "stdout",
          "text": [
            "<class 'int'>\n"
          ]
        }
      ]
    },
    {
      "cell_type": "code",
      "source": [
        "data='one'\n",
        "print(int(data))"
      ],
      "metadata": {
        "colab": {
          "base_uri": "https://localhost:8080/",
          "height": 162
        },
        "id": "D-az_8WXAD0o",
        "outputId": "3e2c91f9-de55-488c-9f6e-341562461612"
      },
      "execution_count": 132,
      "outputs": [
        {
          "output_type": "error",
          "ename": "ValueError",
          "evalue": "invalid literal for int() with base 10: 'one'",
          "traceback": [
            "\u001b[0;31m---------------------------------------------------------------------------\u001b[0m",
            "\u001b[0;31mValueError\u001b[0m                                Traceback (most recent call last)",
            "\u001b[0;32m<ipython-input-132-c51f04025dfe>\u001b[0m in \u001b[0;36m<cell line: 2>\u001b[0;34m()\u001b[0m\n\u001b[1;32m      1\u001b[0m \u001b[0mdata\u001b[0m\u001b[0;34m=\u001b[0m\u001b[0;34m'one'\u001b[0m\u001b[0;34m\u001b[0m\u001b[0;34m\u001b[0m\u001b[0m\n\u001b[0;32m----> 2\u001b[0;31m \u001b[0mprint\u001b[0m\u001b[0;34m(\u001b[0m\u001b[0mint\u001b[0m\u001b[0;34m(\u001b[0m\u001b[0mdata\u001b[0m\u001b[0;34m)\u001b[0m\u001b[0;34m)\u001b[0m\u001b[0;34m\u001b[0m\u001b[0;34m\u001b[0m\u001b[0m\n\u001b[0m",
            "\u001b[0;31mValueError\u001b[0m: invalid literal for int() with base 10: 'one'"
          ]
        }
      ]
    },
    {
      "cell_type": "code",
      "source": [],
      "metadata": {
        "id": "_8r1XCuRARoZ"
      },
      "execution_count": null,
      "outputs": []
    }
  ]
}