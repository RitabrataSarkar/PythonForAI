{
  "nbformat": 4,
  "nbformat_minor": 0,
  "metadata": {
    "colab": {
      "provenance": [],
      "authorship_tag": "ABX9TyN7RpCb4ycr8qGFWckChHcC",
      "include_colab_link": true
    },
    "kernelspec": {
      "name": "python3",
      "display_name": "Python 3"
    },
    "language_info": {
      "name": "python"
    }
  },
  "cells": [
    {
      "cell_type": "markdown",
      "metadata": {
        "id": "view-in-github",
        "colab_type": "text"
      },
      "source": [
        "<a href=\"https://colab.research.google.com/github/RitabrataSarkar/PythonForAI/blob/main/OOPS.ipynb\" target=\"_parent\"><img src=\"https://colab.research.google.com/assets/colab-badge.svg\" alt=\"Open In Colab\"/></a>"
      ]
    },
    {
      "cell_type": "code",
      "execution_count": 1,
      "metadata": {
        "colab": {
          "base_uri": "https://localhost:8080/"
        },
        "id": "G4tE8fbrA3Mj",
        "outputId": "4c72ae03-58d0-4e10-85c1-72c32868470c"
      },
      "outputs": [
        {
          "output_type": "stream",
          "name": "stdout",
          "text": [
            "<class '__main__.Person'>\n",
            "<__main__.Person object at 0x78ce4a42cc70>\n"
          ]
        }
      ],
      "source": [
        "class Person:\n",
        "  pass\n",
        "\n",
        "obj=Person()\n",
        "print(type(obj))\n",
        "print(obj)"
      ]
    },
    {
      "cell_type": "code",
      "source": [
        "class Person:\n",
        "  name=\"Vishwa\"\n",
        "  age=99\n",
        "\n",
        "per=Person()\n",
        "\n",
        "print(per.name)\n",
        "print(per.age)"
      ],
      "metadata": {
        "colab": {
          "base_uri": "https://localhost:8080/"
        },
        "id": "RJp9wSc5BjbH",
        "outputId": "ddf2ef30-f732-4380-8476-6317f89cd594"
      },
      "execution_count": 2,
      "outputs": [
        {
          "output_type": "stream",
          "name": "stdout",
          "text": [
            "Vishwa\n",
            "99\n"
          ]
        }
      ]
    },
    {
      "cell_type": "code",
      "source": [
        "per.hobby=\"cricket\"\n",
        "per.lovename=\"babu\"\n",
        "print(per.lovename)"
      ],
      "metadata": {
        "colab": {
          "base_uri": "https://localhost:8080/"
        },
        "id": "NmyUEkVyCB-g",
        "outputId": "bde2dd52-e7a7-4889-ed10-e26e09bfad7b"
      },
      "execution_count": 3,
      "outputs": [
        {
          "output_type": "stream",
          "name": "stdout",
          "text": [
            "babu\n"
          ]
        }
      ]
    },
    {
      "cell_type": "code",
      "source": [
        "class Person:\n",
        "  #initializer/constructor for objects\n",
        "  def __init__(self,name,age):\n",
        "    self.name=name\n",
        "    self.age=age\n",
        "\n",
        "per1=Person(\"Vishwa\",99)\n",
        "per2=Person(\"Shivani\",97)\n",
        "print(per1.name)\n",
        "print(per2.name)"
      ],
      "metadata": {
        "colab": {
          "base_uri": "https://localhost:8080/"
        },
        "id": "GKMo_8e4CbfN",
        "outputId": "081e5ca3-c8fc-4f33-8a0b-10560569eaba"
      },
      "execution_count": 4,
      "outputs": [
        {
          "output_type": "stream",
          "name": "stdout",
          "text": [
            "Vishwa\n",
            "Shivani\n"
          ]
        }
      ]
    },
    {
      "cell_type": "code",
      "source": [
        "class Person:\n",
        "  def __init__(self,name,age=99,hobby=\"Cricket\"):\n",
        "    self.name=name\n",
        "    self.age=age\n",
        "    self.hobby=hobby\n",
        "\n",
        "per1=Person(\"Vishwa\")\n",
        "per2=Person(\"Vishwa\",56)\n",
        "per3=Person(\"Vishwa\",43,\"Football\")\n",
        "print(per1.hobby)\n",
        "print(per3.hobby)"
      ],
      "metadata": {
        "colab": {
          "base_uri": "https://localhost:8080/"
        },
        "id": "ybME2XVKEDBo",
        "outputId": "6758dbc7-c493-485b-f856-d35c80510626"
      },
      "execution_count": 5,
      "outputs": [
        {
          "output_type": "stream",
          "name": "stdout",
          "text": [
            "Cricket\n",
            "Football\n"
          ]
        }
      ]
    },
    {
      "cell_type": "code",
      "source": [
        "#object/instance methods\n",
        "class Person:\n",
        "  def __init__(self,name,age):\n",
        "    self.name=name\n",
        "    self.age=age\n",
        "\n",
        "  def findAge(self):\n",
        "    return self.age\n",
        "\n",
        "per = Person(\"Vishwa\",99)\n",
        "print(per.findAge())\n"
      ],
      "metadata": {
        "colab": {
          "base_uri": "https://localhost:8080/"
        },
        "id": "F4u-4r6YFY3b",
        "outputId": "140a18d8-a9ba-4fa3-f389-c015928cf54f"
      },
      "execution_count": 6,
      "outputs": [
        {
          "output_type": "stream",
          "name": "stdout",
          "text": [
            "99\n"
          ]
        }
      ]
    },
    {
      "cell_type": "code",
      "source": [
        "#class method\n",
        "class Person:\n",
        "\n",
        "  country=\"India\"\n",
        "  @classmethod\n",
        "  def greet(cls):\n",
        "    print(\"hello from class\",cls.country)\n",
        "\n",
        "  @staticmethod\n",
        "  def hello():\n",
        "    print(\"hello\")\n",
        "\n",
        "  def __init__(self,name,age):\n",
        "    self.name=name\n",
        "    self.age=age\n",
        "\n",
        "  def findAge(self):\n",
        "    return self.age\n",
        "\n",
        "per = Person(\"Vishwa\",99)\n",
        "print(per.findAge())\n",
        "\n",
        "Person.greet()\n",
        "Person.hello()"
      ],
      "metadata": {
        "colab": {
          "base_uri": "https://localhost:8080/"
        },
        "id": "hndQ-ZWjGoQW",
        "outputId": "631ad029-a7cf-405a-b577-06a34b312f7a"
      },
      "execution_count": 8,
      "outputs": [
        {
          "output_type": "stream",
          "name": "stdout",
          "text": [
            "99\n",
            "hello from class India\n",
            "hello\n"
          ]
        }
      ]
    },
    {
      "cell_type": "code",
      "source": [
        "class Calculator:\n",
        "  def add(self,a,b,c=0):\n",
        "    return a+b+c\n",
        "\n",
        "cal=Calculator()\n",
        "print(cal.add(5,6,7))\n",
        "print(cal.add(5,6))"
      ],
      "metadata": {
        "colab": {
          "base_uri": "https://localhost:8080/"
        },
        "id": "j2TQlMyvHaVY",
        "outputId": "9a4cf95e-47b7-4ed6-d723-19b0e6bdcd89"
      },
      "execution_count": 11,
      "outputs": [
        {
          "output_type": "stream",
          "name": "stdout",
          "text": [
            "18\n",
            "11\n"
          ]
        }
      ]
    },
    {
      "cell_type": "code",
      "source": [
        "class Person:\n",
        "  def __init__(self,name,age,salary):\n",
        "    self.name=name\n",
        "    self.age=age\n",
        "    self.__salary=salary\n",
        "\n",
        "  def findAge(self):\n",
        "    return self.age\n",
        "\n",
        "  def getSalary(self):\n",
        "    print(self.__salary)\n",
        "    self.__calculateTax()\n",
        "\n",
        "  def __calculateTax(self):\n",
        "    print(\"Calculating tax\")\n",
        "\n",
        "per = Person(\"Vishwa\",99,5000)\n",
        "print(per.findAge())\n",
        "per.getSalary()"
      ],
      "metadata": {
        "colab": {
          "base_uri": "https://localhost:8080/"
        },
        "id": "BaV-RGV4JSZO",
        "outputId": "063835bd-bd1e-47c1-cc1b-89ad5efd31b9"
      },
      "execution_count": 18,
      "outputs": [
        {
          "output_type": "stream",
          "name": "stdout",
          "text": [
            "99\n",
            "5000\n",
            "Calculating tax\n"
          ]
        }
      ]
    },
    {
      "cell_type": "code",
      "source": [
        "print(per._Person__salary)"
      ],
      "metadata": {
        "colab": {
          "base_uri": "https://localhost:8080/"
        },
        "id": "cq-a17jbKXMu",
        "outputId": "654ba4d5-14e8-4b17-bbd2-f026b799e2f3"
      },
      "execution_count": 19,
      "outputs": [
        {
          "output_type": "stream",
          "name": "stdout",
          "text": [
            "5000\n"
          ]
        }
      ]
    },
    {
      "cell_type": "code",
      "source": [
        "print(per._Person__calculateTax())"
      ],
      "metadata": {
        "colab": {
          "base_uri": "https://localhost:8080/"
        },
        "id": "GKkB8-FyLxY9",
        "outputId": "8ec214db-428f-413d-9cf3-b87eac2b207c"
      },
      "execution_count": 21,
      "outputs": [
        {
          "output_type": "stream",
          "name": "stdout",
          "text": [
            "Calculating tax\n",
            "None\n"
          ]
        }
      ]
    },
    {
      "cell_type": "code",
      "source": [
        "#Encapsulation\n",
        "class Person:\n",
        "  def __init__(self,name,car):\n",
        "    self.__name=name\n",
        "    self.__car=car\n",
        "\n",
        "  #Getters and Setters - public method to allow the controlled interactions\n",
        "  def getName(self):\n",
        "    return self.__name\n",
        "  def setName(self,name):\n",
        "    self.__name=name\n",
        "  def getCar(self):\n",
        "    return self.__car\n",
        "  def setCar(self,car):\n",
        "    self.__car=car"
      ],
      "metadata": {
        "id": "BVtC5RovL4Sw"
      },
      "execution_count": 24,
      "outputs": []
    },
    {
      "cell_type": "code",
      "source": [
        "per = Person(\"Vishwa\",99)\n",
        "print(per.getName())"
      ],
      "metadata": {
        "colab": {
          "base_uri": "https://localhost:8080/"
        },
        "id": "RuZzaZ4dMnMj",
        "outputId": "91858d79-186d-440a-c25c-dbbe4599bf5d"
      },
      "execution_count": 26,
      "outputs": [
        {
          "output_type": "stream",
          "name": "stdout",
          "text": [
            "Vishwa\n"
          ]
        }
      ]
    },
    {
      "cell_type": "code",
      "source": [
        "class Animal:\n",
        "  def __init__(self,name):\n",
        "    self.name=name\n",
        "\n",
        "  def eat(self):\n",
        "    print(self.name+\"is eating\")\n",
        "\n",
        "class Dog(Animal):\n",
        "  def __init__(self,name,type):\n",
        "    #call the constructor of animal class\n",
        "    Animal.__init__(self,name)\n",
        "    self.type=type\n",
        "\n",
        "  def getTheNameOfDog(self):\n",
        "    print(self.name)\n",
        "\n",
        "dog=Dog(\"moti\",\"dobberman\")\n",
        "dog.eat()\n",
        "dog.getTheNameOfDog()"
      ],
      "metadata": {
        "colab": {
          "base_uri": "https://localhost:8080/"
        },
        "id": "pqYuik_QOG9c",
        "outputId": "bcd3fe94-cdaf-4182-cf5f-62cdc1454d68"
      },
      "execution_count": 28,
      "outputs": [
        {
          "output_type": "stream",
          "name": "stdout",
          "text": [
            "motiis eating\n",
            "moti\n"
          ]
        }
      ]
    },
    {
      "cell_type": "code",
      "source": [
        "#super keyword\n",
        "#access the parent property\n",
        "\n",
        "class Parent:\n",
        "    property=90\n",
        "\n",
        "class Child(Parent):\n",
        "  property=99\n",
        "  def display(self):\n",
        "    print(\"child property \", self.property)\n",
        "    print(\"parent property \",super().property)\n",
        "\n",
        "obj=Child()\n",
        "obj.display()"
      ],
      "metadata": {
        "colab": {
          "base_uri": "https://localhost:8080/"
        },
        "id": "nxEx-EVpQNf8",
        "outputId": "ba206dd8-7490-4c9a-e99f-6f6de1432ce1"
      },
      "execution_count": 30,
      "outputs": [
        {
          "output_type": "stream",
          "name": "stdout",
          "text": [
            "child property  99\n",
            "parent property  90\n"
          ]
        }
      ]
    },
    {
      "cell_type": "code",
      "source": [
        "#using super for calling  the parent initializer\n",
        "class Animal:\n",
        "  def __init__(self,name):\n",
        "    self.name=name\n",
        "\n",
        "  def eat(self):\n",
        "    print(self.name+\"is eating\")\n",
        "\n",
        "class Dog(Animal):\n",
        "  def __init__(self,name,type):\n",
        "    #call the constructor of animal class\n",
        "    #Animal.__init__(self,name)\n",
        "    super().__init__(name)#call the parent  constructor or initializer\n",
        "    self.type=type\n",
        "\n",
        "  def getTheNameOfDog(self):\n",
        "    print(self.name)\n",
        "\n",
        "dog=Dog(\"moti\",\"dobberman\")\n",
        "dog.eat()\n",
        "dog.getTheNameOfDog()"
      ],
      "metadata": {
        "colab": {
          "base_uri": "https://localhost:8080/"
        },
        "id": "owalecCdZSVS",
        "outputId": "dc7e9c03-6bcf-4ace-e076-94c4410e4a44"
      },
      "execution_count": 31,
      "outputs": [
        {
          "output_type": "stream",
          "name": "stdout",
          "text": [
            "motiis eating\n",
            "moti\n"
          ]
        }
      ]
    },
    {
      "cell_type": "code",
      "source": [
        "#types of inheritance\n",
        "#single inheritance\n",
        "class Animal:\n",
        "  def __init__(self,name):\n",
        "    self.name=name\n",
        "  def eat(self):\n",
        "    print(\"animal is eating\")\n",
        "\n",
        "class Dog(Animal):\n",
        "  def __init__(self,name,type):\n",
        "    super().__init__(name)\n",
        "    self.type=type"
      ],
      "metadata": {
        "id": "r76ocg7lbPVh"
      },
      "execution_count": null,
      "outputs": []
    },
    {
      "cell_type": "code",
      "source": [
        "#multi level inheritance\n",
        "class Animal:\n",
        "  def __init__(self,name):\n",
        "    self.name=name\n",
        "  def eat(self):\n",
        "    print(\"animal is eating\")\n",
        "\n",
        "class Dog(Animal):\n",
        "  def __init__(self,name,type):\n",
        "    super().__init__(name)\n",
        "    self.type=type\n",
        "\n",
        "class Pet(Dog):\n",
        "  def __init__(self,name,type,houseName):\n",
        "    super().__init__(name,type)\n",
        "    self.houseName=houseName\n"
      ],
      "metadata": {
        "id": "n2C-DaqGbwo0"
      },
      "execution_count": null,
      "outputs": []
    },
    {
      "cell_type": "code",
      "source": [
        "#Hierarichal inheritance\n",
        "class Animal:\n",
        "  def __init__(self,name):\n",
        "    self.name=name\n",
        "  def eat(self):\n",
        "    print(\"animal is eating\")\n",
        "\n",
        "class Dog(Animal):\n",
        "  def __init__(self,name,type):\n",
        "    super().__init__(name)\n",
        "    self.type=type\n",
        "\n",
        "class Cat(Animal):\n",
        "  def __init__(self,name,type):\n",
        "    super().__init__(name)\n",
        "    self.type=type\n",
        ""
      ],
      "metadata": {
        "id": "VeshSboXb3P-"
      },
      "execution_count": null,
      "outputs": []
    },
    {
      "cell_type": "code",
      "source": [
        "#Multi Inheritance\n",
        "class A:\n",
        "  def meth1(self):\n",
        "    print(\"Hello from A\")\n",
        "\n",
        "class B:\n",
        "  def meth2(self):\n",
        "    print(\"Hello from B\")\n",
        "\n",
        "class C(A,B):\n",
        "  def meth(self):\n",
        "    print(\"hello from the child\")\n",
        "\n",
        "c=C()\n",
        "c.meth1()\n",
        "c.meth2()"
      ],
      "metadata": {
        "colab": {
          "base_uri": "https://localhost:8080/"
        },
        "id": "vYdkeMu8coi3",
        "outputId": "6e9d75c0-aa6d-44d6-f2d2-12fbaecbd0ea"
      },
      "execution_count": 33,
      "outputs": [
        {
          "output_type": "stream",
          "name": "stdout",
          "text": [
            "Hello from A\n",
            "Hello from B\n"
          ]
        }
      ]
    },
    {
      "cell_type": "code",
      "source": [
        "#Hybrid Inheritance\n",
        "class Pet(Dog,Cat):\n",
        "  pass"
      ],
      "metadata": {
        "id": "2S2GHNJudT8o"
      },
      "execution_count": null,
      "outputs": []
    }
  ]
}