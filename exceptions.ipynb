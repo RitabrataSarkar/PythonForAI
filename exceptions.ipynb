{
  "nbformat": 4,
  "nbformat_minor": 0,
  "metadata": {
    "colab": {
      "provenance": [],
      "authorship_tag": "ABX9TyMYMQ5bkt/4oQv/ptpV4rG3",
      "include_colab_link": true
    },
    "kernelspec": {
      "name": "python3",
      "display_name": "Python 3"
    },
    "language_info": {
      "name": "python"
    }
  },
  "cells": [
    {
      "cell_type": "markdown",
      "metadata": {
        "id": "view-in-github",
        "colab_type": "text"
      },
      "source": [
        "<a href=\"https://colab.research.google.com/github/RitabrataSarkar/PythonForAI/blob/main/exceptions.ipynb\" target=\"_parent\"><img src=\"https://colab.research.google.com/assets/colab-badge.svg\" alt=\"Open In Colab\"/></a>"
      ]
    },
    {
      "cell_type": "code",
      "execution_count": 1,
      "metadata": {
        "colab": {
          "base_uri": "https://localhost:8080/",
          "height": 200
        },
        "id": "TMlbK-4tiD_v",
        "outputId": "dc00f326-05d1-48e2-ed27-98ff3fbc99a1"
      },
      "outputs": [
        {
          "output_type": "error",
          "ename": "NameError",
          "evalue": "name 'o' is not defined",
          "traceback": [
            "\u001b[0;31m---------------------------------------------------------------------------\u001b[0m",
            "\u001b[0;31mNameError\u001b[0m                                 Traceback (most recent call last)",
            "\u001b[0;32m<ipython-input-1-a076a2391f21>\u001b[0m in \u001b[0;36m<cell line: 2>\u001b[0;34m()\u001b[0m\n\u001b[1;32m      1\u001b[0m \u001b[0mstr\u001b[0m\u001b[0;34m=\u001b[0m\u001b[0;34m\"Vishwa Mohan\"\u001b[0m\u001b[0;34m\u001b[0m\u001b[0;34m\u001b[0m\u001b[0m\n\u001b[1;32m      2\u001b[0m \u001b[0;32mfor\u001b[0m \u001b[0ms\u001b[0m \u001b[0;32min\u001b[0m \u001b[0mstr\u001b[0m\u001b[0;34m:\u001b[0m\u001b[0;34m\u001b[0m\u001b[0;34m\u001b[0m\u001b[0m\n\u001b[0;32m----> 3\u001b[0;31m   \u001b[0;32mif\u001b[0m \u001b[0ms\u001b[0m\u001b[0;34m!=\u001b[0m \u001b[0mo\u001b[0m\u001b[0;34m:\u001b[0m\u001b[0;34m\u001b[0m\u001b[0;34m\u001b[0m\u001b[0m\n\u001b[0m\u001b[1;32m      4\u001b[0m     \u001b[0mprint\u001b[0m\u001b[0;34m(\u001b[0m\u001b[0ms\u001b[0m\u001b[0;34m)\u001b[0m\u001b[0;34m\u001b[0m\u001b[0;34m\u001b[0m\u001b[0m\n",
            "\u001b[0;31mNameError\u001b[0m: name 'o' is not defined"
          ]
        }
      ],
      "source": [
        "str=\"Vishwa Mohan\"\n",
        "for s in str:\n",
        "  if s!= o:\n",
        "    print(s)"
      ]
    },
    {
      "cell_type": "code",
      "source": [
        "arr=[\"Mango\",\"Apple\",\"Orange\"]\n",
        "try:\n",
        "  for i in range(4):\n",
        "    print(arr[i])\n",
        "except:\n",
        "  print(\"Exception handled\")\n",
        "print(\"This line has to be mandatorily executed\")"
      ],
      "metadata": {
        "colab": {
          "base_uri": "https://localhost:8080/"
        },
        "id": "zI4lYNbWiUjq",
        "outputId": "1a7becc9-a5ca-4962-cc57-2a45c1c9d1fa"
      },
      "execution_count": 3,
      "outputs": [
        {
          "output_type": "stream",
          "name": "stdout",
          "text": [
            "Mango\n",
            "Apple\n",
            "Orange\n",
            "Exception handled\n",
            "This line has to be mandatorily executed\n"
          ]
        }
      ]
    },
    {
      "cell_type": "code",
      "source": [
        "arr=[1,2,3]\n",
        "if len(arr)<4:\n",
        "  raise Exception(f'Length of the given list is {len(arr)} which is <= 4')"
      ],
      "metadata": {
        "colab": {
          "base_uri": "https://localhost:8080/",
          "height": 182
        },
        "id": "ii3jy_b8jDlg",
        "outputId": "11ea9772-b93b-4c76-f06b-b70a8bf00330"
      },
      "execution_count": 5,
      "outputs": [
        {
          "output_type": "error",
          "ename": "Exception",
          "evalue": "Length of the given list is 3 which is <= 4",
          "traceback": [
            "\u001b[0;31m---------------------------------------------------------------------------\u001b[0m",
            "\u001b[0;31mException\u001b[0m                                 Traceback (most recent call last)",
            "\u001b[0;32m<ipython-input-5-dc70e9941d78>\u001b[0m in \u001b[0;36m<cell line: 2>\u001b[0;34m()\u001b[0m\n\u001b[1;32m      1\u001b[0m \u001b[0marr\u001b[0m\u001b[0;34m=\u001b[0m\u001b[0;34m[\u001b[0m\u001b[0;36m1\u001b[0m\u001b[0;34m,\u001b[0m\u001b[0;36m2\u001b[0m\u001b[0;34m,\u001b[0m\u001b[0;36m3\u001b[0m\u001b[0;34m]\u001b[0m\u001b[0;34m\u001b[0m\u001b[0;34m\u001b[0m\u001b[0m\n\u001b[1;32m      2\u001b[0m \u001b[0;32mif\u001b[0m \u001b[0mlen\u001b[0m\u001b[0;34m(\u001b[0m\u001b[0marr\u001b[0m\u001b[0;34m)\u001b[0m\u001b[0;34m<\u001b[0m\u001b[0;36m4\u001b[0m\u001b[0;34m:\u001b[0m\u001b[0;34m\u001b[0m\u001b[0;34m\u001b[0m\u001b[0m\n\u001b[0;32m----> 3\u001b[0;31m   \u001b[0;32mraise\u001b[0m \u001b[0mException\u001b[0m\u001b[0;34m(\u001b[0m\u001b[0;34mf'Length of the given list is {len(arr)} which is <= 4'\u001b[0m\u001b[0;34m)\u001b[0m\u001b[0;34m\u001b[0m\u001b[0;34m\u001b[0m\u001b[0m\n\u001b[0m",
            "\u001b[0;31mException\u001b[0m: Length of the given list is 3 which is <= 4"
          ]
        }
      ]
    },
    {
      "cell_type": "code",
      "source": [
        "def cuberoot(num):\n",
        "  assert (num>=0) , \"pass a positive number\"\n",
        "  return num**(1/3)\n",
        "\n",
        "print(cuberoot(8))\n",
        "try:\n",
        "  val=cuberoot(-8)\n",
        "  print(val)\n",
        "except: print(\"Please insert positive number\")\n",
        "print(\"last line\")"
      ],
      "metadata": {
        "colab": {
          "base_uri": "https://localhost:8080/"
        },
        "id": "To6tswzGjrGA",
        "outputId": "51a3eb1c-0ece-415f-a9d4-5d7b5ab775d6"
      },
      "execution_count": 8,
      "outputs": [
        {
          "output_type": "stream",
          "name": "stdout",
          "text": [
            "2.0\n",
            "Please insert positive number\n",
            "last line\n"
          ]
        }
      ]
    },
    {
      "cell_type": "code",
      "source": [
        "def operate(num):\n",
        "  try:\n",
        "    result = 5 / num\n",
        "  except ZeroDivisionError:\n",
        "    print(\"cant divide by zero\")\n",
        "  else:\n",
        "    print(result)\n",
        "  finally:\n",
        "    print(\"This portion o fthe code will alaways be executed\")\n",
        "\n",
        "operate(0)"
      ],
      "metadata": {
        "colab": {
          "base_uri": "https://localhost:8080/"
        },
        "id": "JmvGXesHkYFx",
        "outputId": "8523aadc-c965-4947-9b9d-ab94fa8804fd"
      },
      "execution_count": 13,
      "outputs": [
        {
          "output_type": "stream",
          "name": "stdout",
          "text": [
            "cant divide by zero\n",
            "This portion o fthe code will alaways be executed\n"
          ]
        }
      ]
    },
    {
      "cell_type": "code",
      "source": [
        "from ast import arguments\n",
        "class EmptyException(RuntimeError):\n",
        "  def __init__(self,arguments):\n",
        "    self.arguments=arguments\n",
        "\n",
        "var =\"\"\n",
        "try :\n",
        "  raise EmptyException(\"this variable is an empty string\")\n",
        "except EmptyException as e:\n",
        "  print(e.arguments)"
      ],
      "metadata": {
        "colab": {
          "base_uri": "https://localhost:8080/"
        },
        "id": "VL99yJYplElW",
        "outputId": "7a4f2ec1-0036-408e-c51c-060c91f9a0fb"
      },
      "execution_count": 18,
      "outputs": [
        {
          "output_type": "stream",
          "name": "stdout",
          "text": [
            "this variable is an empty string\n"
          ]
        }
      ]
    },
    {
      "cell_type": "code",
      "source": [],
      "metadata": {
        "id": "-bhgoySFmkZd"
      },
      "execution_count": null,
      "outputs": []
    }
  ]
}