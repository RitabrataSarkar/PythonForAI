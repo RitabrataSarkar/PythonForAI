{
  "nbformat": 4,
  "nbformat_minor": 0,
  "metadata": {
    "colab": {
      "provenance": [],
      "authorship_tag": "ABX9TyM0S6AeeX//oYFdth+eGCkR",
      "include_colab_link": true
    },
    "kernelspec": {
      "name": "python3",
      "display_name": "Python 3"
    },
    "language_info": {
      "name": "python"
    }
  },
  "cells": [
    {
      "cell_type": "markdown",
      "metadata": {
        "id": "view-in-github",
        "colab_type": "text"
      },
      "source": [
        "<a href=\"https://colab.research.google.com/github/RitabrataSarkar/PythonForAI/blob/main/Functions.ipynb\" target=\"_parent\"><img src=\"https://colab.research.google.com/assets/colab-badge.svg\" alt=\"Open In Colab\"/></a>"
      ]
    },
    {
      "cell_type": "code",
      "execution_count": 1,
      "metadata": {
        "id": "gbeY6dKD3QYW"
      },
      "outputs": [],
      "source": [
        "def firstFunction():\n",
        "    print(\"Hello Students\")\n"
      ]
    },
    {
      "cell_type": "code",
      "source": [
        "firstFunction()"
      ],
      "metadata": {
        "colab": {
          "base_uri": "https://localhost:8080/"
        },
        "id": "XhEzKHp13n7F",
        "outputId": "5ca3f6ce-07c4-4ad2-858d-0deedfd10a05"
      },
      "execution_count": 2,
      "outputs": [
        {
          "output_type": "stream",
          "name": "stdout",
          "text": [
            "Hello Students\n"
          ]
        }
      ]
    },
    {
      "cell_type": "code",
      "source": [
        "def addFunction(a,b):\n",
        "  return a+b\n"
      ],
      "metadata": {
        "id": "2ieBurI93q38"
      },
      "execution_count": 3,
      "outputs": []
    },
    {
      "cell_type": "code",
      "source": [
        "print(addFunction(3,4))"
      ],
      "metadata": {
        "colab": {
          "base_uri": "https://localhost:8080/"
        },
        "id": "DeD1vk723zP5",
        "outputId": "0d4ae985-cc94-437b-a89d-2233fce1a325"
      },
      "execution_count": 5,
      "outputs": [
        {
          "output_type": "stream",
          "name": "stdout",
          "text": [
            "7\n",
            "None\n"
          ]
        }
      ]
    },
    {
      "cell_type": "code",
      "source": [
        "def sum_numbers (*args):\n",
        "  print(type(args))\n",
        "  print(args)\n",
        "  sum=0\n",
        "  for num in args:\n",
        "    sum+=num\n",
        "  return sum"
      ],
      "metadata": {
        "id": "BEZ_0Vjz31Ll"
      },
      "execution_count": 6,
      "outputs": []
    },
    {
      "cell_type": "code",
      "source": [
        "sum_numbers(1,2,3,4,5)"
      ],
      "metadata": {
        "colab": {
          "base_uri": "https://localhost:8080/"
        },
        "id": "dWrxeWFJ6EgR",
        "outputId": "817afa0d-2c04-4563-cf34-d43b0bed9a85"
      },
      "execution_count": 7,
      "outputs": [
        {
          "output_type": "stream",
          "name": "stdout",
          "text": [
            "<class 'tuple'>\n",
            "(1, 2, 3, 4, 5)\n"
          ]
        },
        {
          "output_type": "execute_result",
          "data": {
            "text/plain": [
              "15"
            ]
          },
          "metadata": {},
          "execution_count": 7
        }
      ]
    },
    {
      "cell_type": "code",
      "source": [
        "def display(**kwargs):\n",
        "  print(kwargs)\n",
        "  print(type(kwargs))\n",
        "  for key,value in kwargs.items():\n",
        "    print(key,'->',value)\n",
        "\n",
        "display(name=\"Ritabrata\",age=18,city=\"kharagpur\")"
      ],
      "metadata": {
        "colab": {
          "base_uri": "https://localhost:8080/"
        },
        "id": "VrEGaI8B6IXW",
        "outputId": "43e84939-d65b-436a-ac1f-cf12660c31f7"
      },
      "execution_count": 9,
      "outputs": [
        {
          "output_type": "stream",
          "name": "stdout",
          "text": [
            "{'name': 'Ritabrata', 'age': 18, 'city': 'kharagpur'}\n",
            "<class 'dict'>\n",
            "name -> Ritabrata\n",
            "age -> 18\n",
            "city -> kharagpur\n"
          ]
        }
      ]
    },
    {
      "cell_type": "code",
      "source": [
        "def add (a:int,b:int)->int:\n",
        "  return a+b\n",
        "\n",
        "add(4,9)"
      ],
      "metadata": {
        "colab": {
          "base_uri": "https://localhost:8080/"
        },
        "id": "wc4Pf4rZ7gfj",
        "outputId": "b7433952-9a9f-42a2-b5ae-95267e87a76d"
      },
      "execution_count": 10,
      "outputs": [
        {
          "output_type": "execute_result",
          "data": {
            "text/plain": [
              "13"
            ]
          },
          "metadata": {},
          "execution_count": 10
        }
      ]
    },
    {
      "cell_type": "code",
      "source": [],
      "metadata": {
        "id": "UEswadbI8dDW"
      },
      "execution_count": null,
      "outputs": []
    }
  ]
}